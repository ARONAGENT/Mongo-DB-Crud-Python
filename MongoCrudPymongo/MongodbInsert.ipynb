{
  "cells": [
    {
      "cell_type": "code",
      "execution_count": 1,
      "metadata": {
        "colab": {
          "base_uri": "https://localhost:8080/"
        },
        "id": "P-KXJd4F2z0j",
        "outputId": "988fa46d-ecf6-42c5-e72e-007db2a5d768"
      },
      "outputs": [
        {
          "name": "stdout",
          "output_type": "stream",
          "text": [
            "Collecting pymongo\n",
            "  Downloading pymongo-4.10.1-cp310-cp310-manylinux_2_17_x86_64.manylinux2014_x86_64.whl.metadata (22 kB)\n",
            "Collecting dnspython<3.0.0,>=1.16.0 (from pymongo)\n",
            "  Downloading dnspython-2.7.0-py3-none-any.whl.metadata (5.8 kB)\n",
            "Downloading pymongo-4.10.1-cp310-cp310-manylinux_2_17_x86_64.manylinux2014_x86_64.whl (1.4 MB)\n",
            "\u001b[2K   \u001b[90m━━━━━━━━━━━━━━━━━━━━━━━━━━━━━━━━━━━━━━━━\u001b[0m \u001b[32m1.4/1.4 MB\u001b[0m \u001b[31m35.4 MB/s\u001b[0m eta \u001b[36m0:00:00\u001b[0m\n",
            "\u001b[?25hDownloading dnspython-2.7.0-py3-none-any.whl (313 kB)\n",
            "\u001b[2K   \u001b[90m━━━━━━━━━━━━━━━━━━━━━━━━━━━━━━━━━━━━━━━━\u001b[0m \u001b[32m313.6/313.6 kB\u001b[0m \u001b[31m20.9 MB/s\u001b[0m eta \u001b[36m0:00:00\u001b[0m\n",
            "\u001b[?25hInstalling collected packages: dnspython, pymongo\n",
            "Successfully installed dnspython-2.7.0 pymongo-4.10.1\n"
          ]
        }
      ],
      "source": [
        "pip install pymongo"
      ]
    },
    {
      "cell_type": "code",
      "execution_count": 2,
      "metadata": {
        "id": "8ybN24kf26ux"
      },
      "outputs": [],
      "source": [
        "from pymongo import MongoClient"
      ]
    },
    {
      "cell_type": "code",
      "execution_count": null,
      "metadata": {
        "id": "OSbz9E8-2_u7"
      },
      "outputs": [],
      "source": [
        "client=MongoClient(\"mongodb+srv://...Your Connectivity URL....\")"
      ]
    },
    {
      "cell_type": "code",
      "execution_count": 4,
      "metadata": {
        "id": "wldcaOld3DP6"
      },
      "outputs": [],
      "source": [
        "db=client[\"rohandb\"]"
      ]
    },
    {
      "cell_type": "code",
      "execution_count": 5,
      "metadata": {
        "id": "BR2Kqxhp3J2S"
      },
      "outputs": [],
      "source": [
        "coll=db[\"cars\"]"
      ]
    },
    {
      "cell_type": "code",
      "execution_count": 6,
      "metadata": {
        "colab": {
          "base_uri": "https://localhost:8080/"
        },
        "id": "yC5gUepY3tFF",
        "outputId": "07f6d3d0-4041-40fa-b18a-938634e1e09a"
      },
      "outputs": [
        {
          "name": "stdout",
          "output_type": "stream",
          "text": [
            "Enter Car name : i10\n",
            "Enter Company : maruti suzuki\n",
            "Enter Price : 450000\n",
            "Enter Rating : 6.8\n",
            "{'name': 'i10', 'company': 'maruti suzuki', 'price': 450000.0, 'rating': 6.8}\n"
          ]
        }
      ],
      "source": [
        "cnm=input('Enter Car name : ')\n",
        "comp=input('Enter Company : ')\n",
        "price=float(input('Enter Price : '))\n",
        "rating=float(input(\"Enter Rating : \"))\n",
        "\n",
        "dic={\n",
        "    'name':cnm,'company':comp,'price':price,'rating':rating\n",
        "}\n",
        "print(dic)"
      ]
    },
    {
      "cell_type": "code",
      "execution_count": 7,
      "metadata": {
        "colab": {
          "base_uri": "https://localhost:8080/"
        },
        "id": "jjBl_alZ4phU",
        "outputId": "5e573448-2fb3-4162-ca18-dabe1ad78570"
      },
      "outputs": [
        {
          "data": {
            "text/plain": [
              "InsertOneResult(ObjectId('673b9e78162b9b62315230d7'), acknowledged=True)"
            ]
          },
          "execution_count": 7,
          "metadata": {},
          "output_type": "execute_result"
        }
      ],
      "source": [
        "coll.insert_one(dic)"
      ]
    },
    {
      "cell_type": "code",
      "execution_count": 8,
      "metadata": {
        "id": "X9prEZSi4-89"
      },
      "outputs": [],
      "source": [
        "coll=db['films']"
      ]
    },
    {
      "cell_type": "code",
      "execution_count": 9,
      "metadata": {
        "colab": {
          "base_uri": "https://localhost:8080/"
        },
        "id": "IYfE1jLK5EQR",
        "outputId": "3ef1b0e1-087f-4462-cf52-4016816760b7"
      },
      "outputs": [
        {
          "name": "stdout",
          "output_type": "stream",
          "text": [
            "Enter film name : Pushpa 2\n",
            "Enter Company : action\n",
            "Enter language : tamil\n",
            "Enter Rating : 9.2\n"
          ]
        }
      ],
      "source": [
        "fnm=input('Enter film name : ')\n",
        "genre=input('Enter Company : ')\n",
        "language=input('Enter language : ')\n",
        "rating=float(input(\"Enter Rating : \"))\n",
        "dic={\n",
        "    'name':fnm,'genre':genre,'language':language,'rating':rating\n",
        "}"
      ]
    },
    {
      "cell_type": "code",
      "execution_count": 10,
      "metadata": {
        "colab": {
          "base_uri": "https://localhost:8080/"
        },
        "id": "62Y7V4By5gu4",
        "outputId": "496c945c-3f53-4352-ed81-361fb4a92043"
      },
      "outputs": [
        {
          "data": {
            "text/plain": [
              "InsertOneResult(ObjectId('673b9f83162b9b62315230d8'), acknowledged=True)"
            ]
          },
          "execution_count": 10,
          "metadata": {},
          "output_type": "execute_result"
        }
      ],
      "source": [
        "coll.insert_one(dic)"
      ]
    },
    {
      "cell_type": "code",
      "execution_count": 11,
      "metadata": {
        "id": "jeME892L75GF"
      },
      "outputs": [],
      "source": [
        "client.close()"
      ]
    }
  ],
  "metadata": {
    "colab": {
      "provenance": []
    },
    "kernelspec": {
      "display_name": "Python 3",
      "name": "python3"
    },
    "language_info": {
      "name": "python"
    }
  },
  "nbformat": 4,
  "nbformat_minor": 0
}
