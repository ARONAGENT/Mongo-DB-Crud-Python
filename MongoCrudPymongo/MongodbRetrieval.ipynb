{
  "cells": [
    {
      "cell_type": "code",
      "execution_count": 1,
      "metadata": {
        "colab": {
          "base_uri": "https://localhost:8080/"
        },
        "id": "FjP1aRnbvNQC",
        "outputId": "493fa11b-c4b6-4bc8-9288-1ed3fe3beed9"
      },
      "outputs": [
        {
          "name": "stdout",
          "output_type": "stream",
          "text": [
            "Collecting pymongo\n",
            "  Downloading pymongo-4.10.1-cp310-cp310-manylinux_2_17_x86_64.manylinux2014_x86_64.whl.metadata (22 kB)\n",
            "Collecting dnspython<3.0.0,>=1.16.0 (from pymongo)\n",
            "  Downloading dnspython-2.7.0-py3-none-any.whl.metadata (5.8 kB)\n",
            "Downloading pymongo-4.10.1-cp310-cp310-manylinux_2_17_x86_64.manylinux2014_x86_64.whl (1.4 MB)\n",
            "\u001b[2K   \u001b[90m━━━━━━━━━━━━━━━━━━━━━━━━━━━━━━━━━━━━━━━━\u001b[0m \u001b[32m1.4/1.4 MB\u001b[0m \u001b[31m9.6 MB/s\u001b[0m eta \u001b[36m0:00:00\u001b[0m\n",
            "\u001b[?25hDownloading dnspython-2.7.0-py3-none-any.whl (313 kB)\n",
            "\u001b[2K   \u001b[90m━━━━━━━━━━━━━━━━━━━━━━━━━━━━━━━━━━━━━━━━\u001b[0m \u001b[32m313.6/313.6 kB\u001b[0m \u001b[31m16.0 MB/s\u001b[0m eta \u001b[36m0:00:00\u001b[0m\n",
            "\u001b[?25hInstalling collected packages: dnspython, pymongo\n",
            "Successfully installed dnspython-2.7.0 pymongo-4.10.1\n"
          ]
        }
      ],
      "source": [
        "pip install pymongo"
      ]
    },
    {
      "cell_type": "code",
      "execution_count": 2,
      "metadata": {
        "id": "UG9jamykvdZI"
      },
      "outputs": [],
      "source": [
        "from pymongo import MongoClient"
      ]
    },
    {
      "cell_type": "code",
      "execution_count": null,
      "metadata": {
        "id": "ObgXeSpZvlLM"
      },
      "outputs": [],
      "source": [
        "client=MongoClient(\"mongodb+srv://...Your Connectivity URL....\")"
      ]
    },
    {
      "cell_type": "code",
      "execution_count": 22,
      "metadata": {
        "id": "NB3hGK9_xffJ"
      },
      "outputs": [],
      "source": [
        "db=client[\"rohandb\"]"
      ]
    },
    {
      "cell_type": "code",
      "execution_count": 23,
      "metadata": {
        "id": "T4hn4mnayeCs"
      },
      "outputs": [],
      "source": [
        "coll=db[\"cars\"]"
      ]
    },
    {
      "cell_type": "code",
      "execution_count": 24,
      "metadata": {
        "colab": {
          "base_uri": "https://localhost:8080/"
        },
        "id": "gv6lNHJ3yrI4",
        "outputId": "78f68586-fe2f-4634-9892-a50781e1a41e"
      },
      "outputs": [
        {
          "name": "stdout",
          "output_type": "stream",
          "text": [
            "{'_id': ObjectId('673b90db77efda542e86b01d'), 'name': 'swift', 'company': 'maruti suzuki', 'price': 560000, 'rating': 7.2}\n",
            "{'_id': ObjectId('673b936277efda542e86b01e'), 'name': 'Model S', 'company': 'Tesla', 'price': 80000, 'type': 'Electric', 'rating': 4.9}\n",
            "{'_id': ObjectId('673b936277efda542e86b020'), 'name': 'Mustang', 'company': 'Ford', 'price': 55000, 'type': 'Sports', 'rating': 4.7}\n",
            "{'_id': ObjectId('673b936277efda542e86b021'), 'name': 'Camry', 'company': 'Toyota', 'price': 30000}\n",
            "{'_id': ObjectId('673b936277efda542e86b022'), 'name': 'A4', 'company': 'Audi', 'price': 45000, 'type': 'Sedan'}\n",
            "{'_id': ObjectId('673b936277efda542e86b023'), 'name': 'X5', 'company': 'BMW', 'price': 60000, 'type': 'SUV', 'rating': 4.8}\n",
            "{'_id': ObjectId('673b936277efda542e86b024'), 'name': 'Model 3', 'company': 'Tesla', 'price': 45000, 'type': 'Electric'}\n",
            "{'_id': ObjectId('673b936277efda542e86b025'), 'name': 'Accord', 'company': 'Honda', 'price': 28000, 'type': 'Sedan', 'rating': 4.5}\n",
            "{'_id': ObjectId('673b936277efda542e86b026'), 'name': 'F-150', 'company': 'Ford', 'price': 35000, 'rating': 4.6}\n",
            "{'_id': ObjectId('673b936277efda542e86b027'), 'name': 'RAV4', 'company': 'Toyota', 'price': 32000, 'type': 'SUV', 'rating': 4.4}\n",
            "{'_id': ObjectId('673b936277efda542e86b028'), 'name': 'Q7', 'company': 'Audi', 'price': 65000}\n",
            "{'_id': ObjectId('673b936277efda542e86b029'), 'name': 'M3', 'company': 'BMW', 'price': 70000, 'type': 'Sports', 'rating': 4.9}\n",
            "{'_id': ObjectId('673b936277efda542e86b02a'), 'name': 'Cybertruck', 'company': 'Tesla', 'price': 40000, 'rating': 4.7}\n",
            "{'_id': ObjectId('673b936277efda542e86b02b'), 'name': 'Fit', 'company': 'Honda', 'price': 20000}\n",
            "{'_id': ObjectId('673b936277efda542e86b02c'), 'name': 'Explorer', 'company': 'Ford', 'price': 50000, 'type': 'SUV'}\n",
            "{'_id': ObjectId('673b936277efda542e86b02d'), 'name': 'Highlander', 'company': 'Toyota', 'price': 35000, 'type': 'SUV', 'ranking': 3}\n",
            "{'_id': ObjectId('673b936277efda542e86b02e'), 'name': 'A8', 'company': 'Audi', 'price': 90000, 'type': 'Luxury', 'rating': 4.9}\n",
            "{'_id': ObjectId('673b936277efda542e86b02f'), 'name': 'X7', 'company': 'BMW', 'price': 80000}\n",
            "{'_id': ObjectId('673b936277efda542e86b030'), 'name': 'Model Y', 'company': 'Tesla', 'price': 48000, 'type': 'Electric', 'ranking': 1}\n",
            "{'_id': ObjectId('673b936277efda542e86b031'), 'name': 'Corolla', 'company': 'Toyota', 'price': 22000}\n"
          ]
        }
      ],
      "source": [
        "for data in coll.find():\n",
        "  print(data)"
      ]
    },
    {
      "cell_type": "code",
      "execution_count": 27,
      "metadata": {
        "id": "xxBJaFfpz2Ub"
      },
      "outputs": [],
      "source": [
        "coll=db[\"films\"]\n"
      ]
    },
    {
      "cell_type": "code",
      "execution_count": 28,
      "metadata": {
        "colab": {
          "base_uri": "https://localhost:8080/"
        },
        "id": "Y7w8Hp8Jz7e4",
        "outputId": "ddd3aa4b-e89a-46cf-e3a0-50b80cd0d5a2"
      },
      "outputs": [
        {
          "name": "stdout",
          "output_type": "stream",
          "text": [
            "{'_id': ObjectId('67399d5807b60265ca86b01d'), 'name': 'bhool bhulaiya 3', 'genre': 'horror', 'relyr': 2024, 'language': 'hindi'}\n",
            "{'_id': ObjectId('673b9a0077efda542e86b032'), 'title': 'Inception', 'director': 'Christopher Nolan', 'genre': 'Sci-Fi', 'releaseYear': 2010, 'rating': 4.8}\n",
            "{'_id': ObjectId('673b9a0077efda542e86b033'), 'title': 'The Godfather', 'director': 'Francis Ford Coppola', 'releaseYear': 1972, 'rating': 4.9}\n",
            "{'_id': ObjectId('673b9a0077efda542e86b034'), 'title': 'Parasite', 'director': 'Bong Joon-ho', 'genre': 'Thriller', 'releaseYear': 2019}\n",
            "{'_id': ObjectId('673b9a0077efda542e86b035'), 'title': 'Avengers: Endgame', 'genre': 'Action', 'releaseYear': 2019, 'rating': 4.7}\n",
            "{'_id': ObjectId('673b9a0077efda542e86b036'), 'title': 'The Dark Knight', 'director': 'Christopher Nolan', 'genre': 'Action', 'releaseYear': 2008, 'rating': 4.9}\n",
            "{'_id': ObjectId('673b9a0077efda542e86b037'), 'title': 'Titanic', 'director': 'James Cameron', 'releaseYear': 1997, 'genre': 'Romance'}\n",
            "{'_id': ObjectId('673b9a0077efda542e86b038'), 'title': 'Joker', 'director': 'Todd Phillips', 'releaseYear': 2019, 'genre': 'Drama', 'rating': 4.6}\n",
            "{'_id': ObjectId('673b9a0077efda542e86b039'), 'title': 'Pulp Fiction', 'director': 'Quentin Tarantino', 'releaseYear': 1994}\n",
            "{'_id': ObjectId('673b9a0077efda542e86b03a'), 'title': 'The Matrix', 'director': 'Lana & Lilly Wachowski', 'genre': 'Sci-Fi', 'releaseYear': 1999, 'rating': 4.7}\n",
            "{'_id': ObjectId('673b9a0077efda542e86b03b'), 'title': 'Forrest Gump', 'director': 'Robert Zemeckis', 'releaseYear': 1994, 'rating': 4.8}\n",
            "{'_id': ObjectId('673b9a0077efda542e86b03c'), 'title': 'La La Land', 'genre': 'Musical', 'releaseYear': 2016}\n",
            "{'_id': ObjectId('673b9a0077efda542e86b03d'), 'title': 'Interstellar', 'director': 'Christopher Nolan', 'genre': 'Sci-Fi', 'releaseYear': 2014, 'rating': 4.9}\n",
            "{'_id': ObjectId('673b9a0077efda542e86b03e'), 'title': \"Schindler's List\", 'director': 'Steven Spielberg', 'releaseYear': 1993, 'genre': 'Historical', 'rating': 4.9}\n",
            "{'_id': ObjectId('673b9a0077efda542e86b03f'), 'title': 'Gladiator', 'director': 'Ridley Scott', 'releaseYear': 2000, 'genre': 'Historical'}\n",
            "{'_id': ObjectId('673b9a0077efda542e86b040'), 'title': 'Avatar', 'director': 'James Cameron', 'releaseYear': 2009, 'genre': 'Sci-Fi', 'rating': 4.7}\n",
            "{'_id': ObjectId('673b9a0077efda542e86b041'), 'title': 'The Lion King', 'genre': 'Animation', 'releaseYear': 1994, 'ranking': 1}\n",
            "{'_id': ObjectId('673b9a0077efda542e86b042'), 'title': 'The Shawshank Redemption', 'director': 'Frank Darabont', 'releaseYear': 1994, 'rating': 4.9}\n",
            "{'_id': ObjectId('673b9a0077efda542e86b043'), 'title': 'Whiplash', 'director': 'Damien Chazelle', 'genre': 'Drama', 'releaseYear': 2014}\n",
            "{'_id': ObjectId('673b9a0077efda542e86b044'), 'title': 'Frozen', 'genre': 'Animation', 'releaseYear': 2013, 'rating': 4.5}\n",
            "{'_id': ObjectId('673b9a0077efda542e86b045'), 'title': 'Mad Max: Fury Road', 'director': 'George Miller', 'genre': 'Action', 'releaseYear': 2015}\n"
          ]
        }
      ],
      "source": [
        "for data in coll.find():\n",
        "  print(data)"
      ]
    },
    {
      "cell_type": "code",
      "execution_count": 29,
      "metadata": {
        "id": "ZIMYp4-q70jW"
      },
      "outputs": [],
      "source": [
        "client.close()"
      ]
    }
  ],
  "metadata": {
    "colab": {
      "provenance": []
    },
    "kernelspec": {
      "display_name": "Python 3",
      "name": "python3"
    },
    "language_info": {
      "name": "python"
    }
  },
  "nbformat": 4,
  "nbformat_minor": 0
}
